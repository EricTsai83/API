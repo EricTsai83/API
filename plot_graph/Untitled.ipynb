{
 "cells": [
  {
   "cell_type": "code",
   "execution_count": 1,
   "id": "03f6fcb5-b463-4be6-b1cf-07eda40155a8",
   "metadata": {
    "execution": {
     "iopub.execute_input": "2021-12-14T14:30:14.325172Z",
     "iopub.status.busy": "2021-12-14T14:30:14.324172Z",
     "iopub.status.idle": "2021-12-14T14:30:17.821803Z",
     "shell.execute_reply": "2021-12-14T14:30:17.820800Z",
     "shell.execute_reply.started": "2021-12-14T14:30:14.325172Z"
    },
    "tags": []
   },
   "outputs": [],
   "source": [
    "from flask import Flask, render_template\n",
    "import pandas as pd\n",
    "import json\n",
    "import plotly\n",
    "import plotly.express as px"
   ]
  },
  {
   "cell_type": "code",
   "execution_count": 2,
   "id": "1ddeeb5d-3834-424e-8cc1-b66a8fd9782c",
   "metadata": {
    "execution": {
     "iopub.execute_input": "2021-12-14T14:30:22.352088Z",
     "iopub.status.busy": "2021-12-14T14:30:22.351084Z",
     "iopub.status.idle": "2021-12-14T14:30:23.368114Z",
     "shell.execute_reply": "2021-12-14T14:30:23.367107Z",
     "shell.execute_reply.started": "2021-12-14T14:30:22.352088Z"
    }
   },
   "outputs": [],
   "source": [
    "df = pd.DataFrame({\n",
    "  'Fruit': ['Apples', 'Oranges', 'Bananas', 'Apples', 'Oranges', \n",
    "  'Bananas'],\n",
    "  'Amount': [4, 1, 2, 2, 4, 5],\n",
    "  'City': ['SF', 'SF', 'SF', 'Montreal', 'Montreal', 'Montreal']})\n",
    "fig = px.bar(df, x='Fruit', y='Amount', color='City', barmode='group')\n",
    "graphJSON = json.dumps(fig, cls=plotly.utils.PlotlyJSONEncoder)"
   ]
  },
  {
   "cell_type": "code",
   "execution_count": null,
   "id": "666cbc26-a7fb-4f7d-9e4d-9201d39afb6d",
   "metadata": {},
   "outputs": [],
   "source": []
  }
 ],
 "metadata": {
  "kernelspec": {
   "display_name": "Python 3",
   "language": "python",
   "name": "python3"
  },
  "language_info": {
   "codemirror_mode": {
    "name": "ipython",
    "version": 3
   },
   "file_extension": ".py",
   "mimetype": "text/x-python",
   "name": "python",
   "nbconvert_exporter": "python",
   "pygments_lexer": "ipython3",
   "version": "3.7.10"
  }
 },
 "nbformat": 4,
 "nbformat_minor": 5
}
