{
 "cells": [
  {
   "cell_type": "code",
   "execution_count": 1,
   "id": "325211bc-904f-417f-8975-b1bf1feada91",
   "metadata": {
    "execution": {
     "iopub.execute_input": "2021-12-14T15:45:45.678890Z",
     "iopub.status.busy": "2021-12-14T15:45:45.677889Z",
     "iopub.status.idle": "2021-12-14T15:45:50.138805Z",
     "shell.execute_reply": "2021-12-14T15:45:50.136805Z",
     "shell.execute_reply.started": "2021-12-14T15:45:45.678890Z"
    }
   },
   "outputs": [],
   "source": [
    "from flask import Flask, render_template\n",
    "import pandas as pd\n",
    "import json\n",
    "import plotly\n",
    "import plotly.express as px\n",
    "from tinydb import TinyDB, Query"
   ]
  },
  {
   "cell_type": "code",
   "execution_count": 2,
   "id": "3b776cf9-4d57-4b88-8667-038e52bdd3af",
   "metadata": {
    "execution": {
     "iopub.execute_input": "2021-12-14T15:45:50.140808Z",
     "iopub.status.busy": "2021-12-14T15:45:50.139809Z",
     "iopub.status.idle": "2021-12-14T15:45:50.154804Z",
     "shell.execute_reply": "2021-12-14T15:45:50.152803Z",
     "shell.execute_reply.started": "2021-12-14T15:45:50.140808Z"
    }
   },
   "outputs": [],
   "source": [
    "df = pd.DataFrame({\n",
    "  'Fruit': ['Apples', 'Oranges', 'Bananas', 'Apples', 'Oranges', 'Bananas'],\n",
    "  'Amount': [4, 1, 2, 2, 4, 5],\n",
    "  'City': ['SF', 'SF', 'SF', 'Montreal', 'Montreal', 'Montreal']})\n",
    "\n",
    "json_df = df.to_json(orient = 'records')"
   ]
  },
  {
   "cell_type": "code",
   "execution_count": 8,
   "id": "925dd38a-12f5-46a8-8427-58531de10f8e",
   "metadata": {
    "execution": {
     "iopub.execute_input": "2021-12-14T15:46:55.658298Z",
     "iopub.status.busy": "2021-12-14T15:46:55.658298Z",
     "iopub.status.idle": "2021-12-14T15:46:55.672297Z",
     "shell.execute_reply": "2021-12-14T15:46:55.671297Z",
     "shell.execute_reply.started": "2021-12-14T15:46:55.658298Z"
    },
    "tags": []
   },
   "outputs": [
    {
     "data": {
      "text/plain": [
       "[{'Fruit': 'Apples', 'Amount': 4, 'City': 'SF'},\n",
       " {'Fruit': 'Oranges', 'Amount': 1, 'City': 'SF'},\n",
       " {'Fruit': 'Bananas', 'Amount': 2, 'City': 'SF'},\n",
       " {'Fruit': 'Apples', 'Amount': 2, 'City': 'Montreal'},\n",
       " {'Fruit': 'Oranges', 'Amount': 4, 'City': 'Montreal'},\n",
       " {'Fruit': 'Bananas', 'Amount': 5, 'City': 'Montreal'}]"
      ]
     },
     "execution_count": 8,
     "metadata": {},
     "output_type": "execute_result"
    }
   ],
   "source": [
    "eval(json_df)"
   ]
  },
  {
   "cell_type": "code",
   "execution_count": 9,
   "id": "343308b8-379d-4ca0-81e7-b400620d7d54",
   "metadata": {
    "execution": {
     "iopub.execute_input": "2021-12-14T15:47:00.641681Z",
     "iopub.status.busy": "2021-12-14T15:47:00.640674Z",
     "iopub.status.idle": "2021-12-14T15:47:00.684667Z",
     "shell.execute_reply": "2021-12-14T15:47:00.683668Z",
     "shell.execute_reply.started": "2021-12-14T15:47:00.641681Z"
    },
    "tags": []
   },
   "outputs": [],
   "source": [
    "df = pd.DataFrame(eval(json_df))"
   ]
  },
  {
   "cell_type": "code",
   "execution_count": 10,
   "id": "6ddce65e-a1d0-48a8-a230-528b0b1fc119",
   "metadata": {
    "execution": {
     "iopub.execute_input": "2021-12-14T15:47:02.655598Z",
     "iopub.status.busy": "2021-12-14T15:47:02.654602Z",
     "iopub.status.idle": "2021-12-14T15:47:02.681595Z",
     "shell.execute_reply": "2021-12-14T15:47:02.680595Z",
     "shell.execute_reply.started": "2021-12-14T15:47:02.655598Z"
    },
    "tags": []
   },
   "outputs": [
    {
     "data": {
      "text/html": [
       "<div>\n",
       "<style scoped>\n",
       "    .dataframe tbody tr th:only-of-type {\n",
       "        vertical-align: middle;\n",
       "    }\n",
       "\n",
       "    .dataframe tbody tr th {\n",
       "        vertical-align: top;\n",
       "    }\n",
       "\n",
       "    .dataframe thead th {\n",
       "        text-align: right;\n",
       "    }\n",
       "</style>\n",
       "<table border=\"1\" class=\"dataframe\">\n",
       "  <thead>\n",
       "    <tr style=\"text-align: right;\">\n",
       "      <th></th>\n",
       "      <th>Fruit</th>\n",
       "      <th>Amount</th>\n",
       "      <th>City</th>\n",
       "    </tr>\n",
       "  </thead>\n",
       "  <tbody>\n",
       "    <tr>\n",
       "      <th>0</th>\n",
       "      <td>Apples</td>\n",
       "      <td>4</td>\n",
       "      <td>SF</td>\n",
       "    </tr>\n",
       "    <tr>\n",
       "      <th>1</th>\n",
       "      <td>Oranges</td>\n",
       "      <td>1</td>\n",
       "      <td>SF</td>\n",
       "    </tr>\n",
       "    <tr>\n",
       "      <th>2</th>\n",
       "      <td>Bananas</td>\n",
       "      <td>2</td>\n",
       "      <td>SF</td>\n",
       "    </tr>\n",
       "    <tr>\n",
       "      <th>3</th>\n",
       "      <td>Apples</td>\n",
       "      <td>2</td>\n",
       "      <td>Montreal</td>\n",
       "    </tr>\n",
       "    <tr>\n",
       "      <th>4</th>\n",
       "      <td>Oranges</td>\n",
       "      <td>4</td>\n",
       "      <td>Montreal</td>\n",
       "    </tr>\n",
       "    <tr>\n",
       "      <th>5</th>\n",
       "      <td>Bananas</td>\n",
       "      <td>5</td>\n",
       "      <td>Montreal</td>\n",
       "    </tr>\n",
       "  </tbody>\n",
       "</table>\n",
       "</div>"
      ],
      "text/plain": [
       "     Fruit  Amount      City\n",
       "0   Apples       4        SF\n",
       "1  Oranges       1        SF\n",
       "2  Bananas       2        SF\n",
       "3   Apples       2  Montreal\n",
       "4  Oranges       4  Montreal\n",
       "5  Bananas       5  Montreal"
      ]
     },
     "execution_count": 10,
     "metadata": {},
     "output_type": "execute_result"
    }
   ],
   "source": [
    "df"
   ]
  },
  {
   "cell_type": "code",
   "execution_count": null,
   "id": "e3aac54f-d282-4efd-a4fc-37c585670a6d",
   "metadata": {},
   "outputs": [],
   "source": []
  }
 ],
 "metadata": {
  "kernelspec": {
   "display_name": "Python 3",
   "language": "python",
   "name": "python3"
  },
  "language_info": {
   "codemirror_mode": {
    "name": "ipython",
    "version": 3
   },
   "file_extension": ".py",
   "mimetype": "text/x-python",
   "name": "python",
   "nbconvert_exporter": "python",
   "pygments_lexer": "ipython3",
   "version": "3.7.10"
  }
 },
 "nbformat": 4,
 "nbformat_minor": 5
}
