{
 "cells": [
  {
   "cell_type": "code",
   "execution_count": 1,
   "metadata": {},
   "outputs": [],
   "source": [
    "import pandas as pd\n",
    "import json\n",
    "from tinydb import TinyDB, Query"
   ]
  },
  {
   "cell_type": "code",
   "execution_count": 2,
   "metadata": {},
   "outputs": [],
   "source": [
    "with open(\"./data/nobel_winners.json\") as json_data:\n",
    "    data = json.load(json_data)\n",
    "\n",
    "# convert json to DB format\n",
    "db = TinyDB(\"test.json\")\n",
    "for value in data:\n",
    "    db.insert(value)"
   ]
  },
  {
   "cell_type": "code",
   "execution_count": 3,
   "metadata": {},
   "outputs": [],
   "source": [
    "Q = Query()\n",
    "winners = db.search(Q.country == \"Austria\")"
   ]
  },
  {
   "cell_type": "code",
   "execution_count": 4,
   "metadata": {},
   "outputs": [
    {
     "data": {
      "text/plain": [
       "[{'link': 'https://en.wikipedia.org/wiki/Karl_Landsteiner',\n",
       "  'name': 'Karl Landsteiner',\n",
       "  'year': 1930,\n",
       "  'category': 'Physiology or Medicine',\n",
       "  'country': 'Austria',\n",
       "  'text': 'Karl Landsteiner , Physiology or Medicine, 1930',\n",
       "  'date_of_birth': -3204576000000,\n",
       "  'date_of_death': -836870400000,\n",
       "  'place_of_birth': 'Vienna',\n",
       "  'place_of_death': 'New York City',\n",
       "  'gender': 'male',\n",
       "  'award_age': 62.0}]"
      ]
     },
     "execution_count": 4,
     "metadata": {},
     "output_type": "execute_result"
    }
   ],
   "source": [
    "winners"
   ]
  },
  {
   "cell_type": "code",
   "execution_count": null,
   "metadata": {},
   "outputs": [],
   "source": []
  }
 ],
 "metadata": {
  "interpreter": {
   "hash": "610ce463f2033d00101059a2a8d44cc6bfaf8272d1102aaa40059133de29488a"
  },
  "kernelspec": {
   "display_name": "Python 3 (ipykernel)",
   "language": "python",
   "name": "python3"
  },
  "language_info": {
   "codemirror_mode": {
    "name": "ipython",
    "version": 3
   },
   "file_extension": ".py",
   "mimetype": "text/x-python",
   "name": "python",
   "nbconvert_exporter": "python",
   "pygments_lexer": "ipython3",
   "version": "3.8.12"
  }
 },
 "nbformat": 4,
 "nbformat_minor": 4
}
